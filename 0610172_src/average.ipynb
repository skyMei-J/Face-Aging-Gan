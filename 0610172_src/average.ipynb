{
 "cells": [
  {
   "cell_type": "markdown",
   "metadata": {},
   "source": [
    "# produce all training age latent average"
   ]
  },
  {
   "cell_type": "code",
   "execution_count": 1,
   "metadata": {},
   "outputs": [
    {
     "name": "stdout",
     "output_type": "stream",
     "text": [
      "averagin:  ../DATA/0/\n",
      "averagin:  ../DATA/10/\n",
      "averagin:  ../DATA/12/\n",
      "averagin:  ../DATA/13/\n",
      "averagin:  ../DATA/14/\n",
      "averagin:  ../DATA/15/\n",
      "averagin:  ../DATA/16/\n",
      "averagin:  ../DATA/17/\n",
      "averagin:  ../DATA/18/\n",
      "averagin:  ../DATA/19/\n",
      "averagin:  ../DATA/20/\n",
      "averagin:  ../DATA/21/\n",
      "averagin:  ../DATA/22/\n",
      "averagin:  ../DATA/23/\n",
      "averagin:  ../DATA/24/\n",
      "averagin:  ../DATA/25/\n",
      "averagin:  ../DATA/26/\n",
      "averagin:  ../DATA/27/\n",
      "averagin:  ../DATA/28/\n",
      "averagin:  ../DATA/29/\n",
      "averagin:  ../DATA/30/\n",
      "averagin:  ../DATA/31/\n",
      "averagin:  ../DATA/32/\n",
      "averagin:  ../DATA/33/\n",
      "averagin:  ../DATA/34/\n",
      "averagin:  ../DATA/35/\n",
      "averagin:  ../DATA/36/\n",
      "averagin:  ../DATA/37/\n",
      "averagin:  ../DATA/38/\n",
      "averagin:  ../DATA/39/\n",
      "averagin:  ../DATA/40/\n",
      "averagin:  ../DATA/41/\n",
      "averagin:  ../DATA/42/\n",
      "averagin:  ../DATA/43/\n",
      "averagin:  ../DATA/44/\n",
      "averagin:  ../DATA/45/\n",
      "averagin:  ../DATA/46/\n",
      "averagin:  ../DATA/47/\n",
      "averagin:  ../DATA/48/\n",
      "averagin:  ../DATA/49/\n",
      "averagin:  ../DATA/50/\n",
      "averagin:  ../DATA/51/\n",
      "averagin:  ../DATA/52/\n",
      "averagin:  ../DATA/53/\n",
      "averagin:  ../DATA/54/\n",
      "averagin:  ../DATA/55/\n",
      "averagin:  ../DATA/56/\n",
      "averagin:  ../DATA/57/\n",
      "averagin:  ../DATA/58/\n",
      "averagin:  ../DATA/59/\n",
      "averagin:  ../DATA/60/\n",
      "averagin:  ../DATA/62/\n",
      "averagin:  ../DATA/63/\n",
      "averagin:  ../DATA/64/\n",
      "averagin:  ../DATA/65/\n",
      "averagin:  ../DATA/66/\n",
      "averagin:  ../DATA/67/\n",
      "averagin:  ../DATA/69/\n",
      "averagin:  ../DATA/70/\n",
      "averagin:  ../DATA/71/\n",
      "averagin:  ../DATA/72/\n",
      "averagin:  ../DATA/74/\n",
      "averagin:  ../DATA/75/\n",
      "averagin:  ../DATA/76/\n",
      "averagin:  ../DATA/77/\n",
      "averagin:  ../DATA/79/\n",
      "averagin:  ../DATA/81/\n",
      "averagin:  ../DATA/9/\n"
     ]
    }
   ],
   "source": [
    "import os\n",
    "import torch\n",
    "\n",
    "path = '../DATA/'\n",
    "device = 'cuda'\n",
    "output_dir='average/'\n",
    "\n",
    "if not os.path.exists(output_dir):\n",
    "    os.makedirs(output_dir)\n",
    "    \n",
    "\n",
    "dirs = os.listdir( path )\n",
    "dirs.sort()\n",
    "for dir in dirs:#age dir\n",
    "    average_out = output_dir+str(dir)+'_average.pt'#output average latent name\n",
    "    tensor_list = []\n",
    "    lats = os.listdir(path+dir+'/')\n",
    "    lats.sort()\n",
    "    for i,lat in enumerate(lats):# all the latent of dir age to be averaged\n",
    "        if(lat[-7:]=='.png.pt'):\n",
    "            \n",
    "            latent = torch.load(path+dir+'/'+lat)\n",
    "            tensor_list.append(latent)\n",
    "            \n",
    "#     print(latent.shape)       \n",
    "    print('averagin: ',path+dir+'/','save to:',output_dir)\n",
    "    latent = torch.stack(tensor_list, 0).to(device)\n",
    "    latent_average = torch.mean(latent,0)\n",
    "    torch.save(latent_average,average_out)"
   ]
  },
  {
   "cell_type": "code",
   "execution_count": 3,
   "metadata": {},
   "outputs": [
    {
     "name": "stdout",
     "output_type": "stream",
     "text": [
      "61\n",
      "68\n"
     ]
    }
   ],
   "source": [
    "not_exist_train = []\n",
    "\n",
    "dirs = os.listdir( path )\n",
    "dirs.sort()\n",
    "for i in range(100):\n",
    "    exist =0\n",
    "    for dir in dirs:#age dir\n",
    "        if int(dir) == i:\n",
    "            exist = 1\n",
    "    if exist ==0:\n",
    "        not_exist_train.append(i)\n",
    "        \n",
    "\n",
    "import pandas as pd\n",
    "desired = pd.read_csv('test_desired_age.txt',header=None,sep=\"\\t\",names = ['name','age'])\n",
    "desired_age = desired['age']\n",
    "desired_age = desired_age.to_list()\n",
    "\n",
    "for i in range(100):\n",
    "    if i in desired_age and i in not_exist_train:\n",
    "        print(i)"
   ]
  },
  {
   "cell_type": "markdown",
   "metadata": {},
   "source": [
    "# produce 61 68 average latent"
   ]
  },
  {
   "cell_type": "markdown",
   "metadata": {},
   "source": [
    "## 61 68 not exist in training label but in desired age label"
   ]
  },
  {
   "cell_type": "code",
   "execution_count": 5,
   "metadata": {},
   "outputs": [
    {
     "name": "stdout",
     "output_type": "stream",
     "text": [
      "saving:  average/61_average.pt\n",
      "saving:  average/68_average.pt\n"
     ]
    }
   ],
   "source": [
    "output_dir='average/'\n",
    "average_out = output_dir+str(61)+'_average.pt'\n",
    "latent1 = torch.load(output_dir+str(60)+'_average.pt')\n",
    "latent2 = torch.load(output_dir+str(62)+'_average.pt')\n",
    "torch.save((latent1+latent2)/2,average_out)\n",
    "print('saving: ',output_dir+str(61)+'_average.pt')\n",
    "\n",
    "average_out = output_dir+str(68)+'_average.pt'\n",
    "latent1 = torch.load(output_dir+str(69)+'_average.pt')\n",
    "latent2 = torch.load(output_dir+str(67)+'_average.pt')\n",
    "torch.save((latent1+latent2)/2,average_out)\n",
    "print('saving: ',output_dir+str(68)+'_average.pt')\n"
   ]
  },
  {
   "cell_type": "code",
   "execution_count": null,
   "metadata": {},
   "outputs": [],
   "source": []
  },
  {
   "cell_type": "code",
   "execution_count": null,
   "metadata": {},
   "outputs": [],
   "source": []
  },
  {
   "cell_type": "code",
   "execution_count": null,
   "metadata": {},
   "outputs": [],
   "source": []
  }
 ],
 "metadata": {
  "kernelspec": {
   "display_name": "Python 3",
   "language": "python",
   "name": "python3"
  },
  "language_info": {
   "codemirror_mode": {
    "name": "ipython",
    "version": 3
   },
   "file_extension": ".py",
   "mimetype": "text/x-python",
   "name": "python",
   "nbconvert_exporter": "python",
   "pygments_lexer": "ipython3",
   "version": "3.6.9"
  }
 },
 "nbformat": 4,
 "nbformat_minor": 2
}
