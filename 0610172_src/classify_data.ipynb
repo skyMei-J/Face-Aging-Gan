{
 "cells": [
  {
   "cell_type": "code",
   "execution_count": 1,
   "metadata": {
    "scrolled": true
   },
   "outputs": [
    {
     "name": "stdout",
     "output_type": "stream",
     "text": [
      "[['00000.png' 9]\n",
      " ['00001.png' 23]\n",
      " ['00002.png' 14]\n",
      " ...\n",
      " ['64997.png' 18]\n",
      " ['64998.png' 23]\n",
      " ['64999.png' 38]]\n"
     ]
    }
   ],
   "source": [
    "import pandas as pd\n",
    "import os, sys\n",
    "path = \"../thumbnails128x128/\"\n",
    "output_path='../DATA/'\n",
    "dataset = pd.read_csv(\"train_label.txt\",sep = \"\t\",header = None)\n",
    "dataset = dataset.values\n",
    "print(dataset)"
   ]
  },
  {
   "cell_type": "code",
   "execution_count": 2,
   "metadata": {},
   "outputs": [],
   "source": [
    "import shutil\n",
    "\n",
    "dirs = os.listdir( path )\n",
    "dirs.sort()\n",
    "count = 0\n",
    "for file in dirs:\n",
    "    if file[-3:] !='txt':\n",
    "        imglist = os.listdir(path+file)\n",
    "        imglist.sort()\n",
    "        for img in imglist:\n",
    "            index = int(img[0:5])\n",
    "            if( index<=64999 and img == dataset[index][0]):#training data from 00000.png to 64999.png\n",
    "                directory = output_path+str(dataset[index][1])+'/'\n",
    "                if not os.path.exists(directory):\n",
    "                    os.makedirs(directory)\n",
    "\n",
    "                if not os.path.exists(directory+str(dataset[index][1])+'/'):\n",
    "                    os.makedirs(directory+str(dataset[index][1])+'/')\n",
    "\n",
    "                shutil.copy(path+file+'/'+img,output_path+str(dataset[index][1])+'/'  +str(dataset[index][1])+'/' +img)\n",
    "\n",
    "\n"
   ]
  },
  {
   "cell_type": "code",
   "execution_count": null,
   "metadata": {},
   "outputs": [],
   "source": []
  }
 ],
 "metadata": {
  "kernelspec": {
   "display_name": "Python 3",
   "language": "python",
   "name": "python3"
  },
  "language_info": {
   "codemirror_mode": {
    "name": "ipython",
    "version": 3
   },
   "file_extension": ".py",
   "mimetype": "text/x-python",
   "name": "python",
   "nbconvert_exporter": "python",
   "pygments_lexer": "ipython3",
   "version": "3.6.9"
  }
 },
 "nbformat": 4,
 "nbformat_minor": 4
}
